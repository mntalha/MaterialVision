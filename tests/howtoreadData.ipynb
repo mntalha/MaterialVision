{
 "cells": [
  {
   "cell_type": "markdown",
   "id": "97a41e89",
   "metadata": {},
   "source": [
    "# Reading and Exploring the Dataset\n",
    "\n",
    "This notebook demonstrates how to read and analyze the training dataset from CSV file. We'll explore various properties and characteristics of the data."
   ]
  },
  {
   "cell_type": "code",
   "execution_count": 1,
   "id": "f0aa1e85",
   "metadata": {},
   "outputs": [],
   "source": [
    "# Import required libraries\n",
    "import pandas as pd\n",
    "import numpy as np\n",
    "import matplotlib.pyplot as plt\n",
    "import seaborn as sns\n",
    "\n",
    "# Set style for better visualizations\n",
    "plt.style.use('default')  # Using default style instead\n",
    "sns.set_style(\"whitegrid\")  # Using basic seaborn grid style"
   ]
  },
  {
   "cell_type": "code",
   "execution_count": 2,
   "id": "a5609238",
   "metadata": {},
   "outputs": [
    {
     "name": "stdout",
     "output_type": "stream",
     "text": [
      "Dataset Shape: (5000, 5)\n",
      "\n",
      "Dataset Info:\n",
      "<class 'pandas.core.frame.DataFrame'>\n",
      "RangeIndex: 5000 entries, 0 to 4999\n",
      "Data columns (total 5 columns):\n",
      " #   Column       Non-Null Count  Dtype  \n",
      "---  ------       --------------  -----  \n",
      " 0   instruction  5000 non-null   object \n",
      " 1   input        5000 non-null   object \n",
      " 2   response     5000 non-null   object \n",
      " 3   id           5000 non-null   float64\n",
      " 4   image        5000 non-null   object \n",
      "dtypes: float64(1), object(4)\n",
      "memory usage: 195.4+ KB\n",
      "\n",
      "First few rows of the dataset:\n"
     ]
    },
    {
     "data": {
      "text/html": [
       "<div>\n",
       "<style scoped>\n",
       "    .dataframe tbody tr th:only-of-type {\n",
       "        vertical-align: middle;\n",
       "    }\n",
       "\n",
       "    .dataframe tbody tr th {\n",
       "        vertical-align: top;\n",
       "    }\n",
       "\n",
       "    .dataframe thead th {\n",
       "        text-align: right;\n",
       "    }\n",
       "</style>\n",
       "<table border=\"1\" class=\"dataframe\">\n",
       "  <thead>\n",
       "    <tr style=\"text-align: right;\">\n",
       "      <th></th>\n",
       "      <th>instruction</th>\n",
       "      <th>input</th>\n",
       "      <th>response</th>\n",
       "      <th>id</th>\n",
       "      <th>image</th>\n",
       "    </tr>\n",
       "  </thead>\n",
       "  <tbody>\n",
       "    <tr>\n",
       "      <th>0</th>\n",
       "      <td>Generate atomic structure description with lat...</td>\n",
       "      <td>The chemical formula is Te3SeO8. The  mbj_band...</td>\n",
       "      <td>4.9 6.9 11.6\\n77 78 69\\nTe\\n0.15 0.87 0.30\\nTe...</td>\n",
       "      <td>0.0</td>\n",
       "      <td>[[788.7705980909478, 870.91214990967, 822.1257...</td>\n",
       "    </tr>\n",
       "    <tr>\n",
       "      <th>1</th>\n",
       "      <td>Generate atomic structure description with lat...</td>\n",
       "      <td>The chemical formula is InF3. The  mbj_bandgap...</td>\n",
       "      <td>5.8 5.8 5.8\\n53 53 53\\nIn\\n0.50 0.50 0.50\\nIn\\...</td>\n",
       "      <td>1.0</td>\n",
       "      <td>[[179.0272030566336, 298.58086754861387, 445.4...</td>\n",
       "    </tr>\n",
       "    <tr>\n",
       "      <th>2</th>\n",
       "      <td>Generate atomic structure description with lat...</td>\n",
       "      <td>The chemical formula is MgIn2Te4. The  mbj_ban...</td>\n",
       "      <td>7.7 7.7 7.7\\n131 131 70\\nMg\\n0.75 0.25 0.50\\nI...</td>\n",
       "      <td>2.0</td>\n",
       "      <td>[[0.5089580355505919, 0.6700741460760542, 0.90...</td>\n",
       "    </tr>\n",
       "    <tr>\n",
       "      <th>3</th>\n",
       "      <td>Generate atomic structure description with lat...</td>\n",
       "      <td>The chemical formula is Li4Mn3FeB4O12. The  mb...</td>\n",
       "      <td>5.2 5.9 8.9\\n103 90 114\\nLi\\n0.58 0.32 0.96\\nL...</td>\n",
       "      <td>3.0</td>\n",
       "      <td>[[80.3384859297844, 73.66505892997732, 62.1020...</td>\n",
       "    </tr>\n",
       "    <tr>\n",
       "      <th>4</th>\n",
       "      <td>Generate atomic structure description with lat...</td>\n",
       "      <td>The chemical formula is TePdSe. The  mbj_bandg...</td>\n",
       "      <td>4.0 4.0 5.0\\n90 90 120\\nTe\\n0.00 0.00 0.73\\nPd...</td>\n",
       "      <td>4.0</td>\n",
       "      <td>[[71.49908188830403, 134.99222115262734, 226.5...</td>\n",
       "    </tr>\n",
       "  </tbody>\n",
       "</table>\n",
       "</div>"
      ],
      "text/plain": [
       "                                         instruction  \\\n",
       "0  Generate atomic structure description with lat...   \n",
       "1  Generate atomic structure description with lat...   \n",
       "2  Generate atomic structure description with lat...   \n",
       "3  Generate atomic structure description with lat...   \n",
       "4  Generate atomic structure description with lat...   \n",
       "\n",
       "                                               input  \\\n",
       "0  The chemical formula is Te3SeO8. The  mbj_band...   \n",
       "1  The chemical formula is InF3. The  mbj_bandgap...   \n",
       "2  The chemical formula is MgIn2Te4. The  mbj_ban...   \n",
       "3  The chemical formula is Li4Mn3FeB4O12. The  mb...   \n",
       "4  The chemical formula is TePdSe. The  mbj_bandg...   \n",
       "\n",
       "                                            response   id  \\\n",
       "0  4.9 6.9 11.6\\n77 78 69\\nTe\\n0.15 0.87 0.30\\nTe...  0.0   \n",
       "1  5.8 5.8 5.8\\n53 53 53\\nIn\\n0.50 0.50 0.50\\nIn\\...  1.0   \n",
       "2  7.7 7.7 7.7\\n131 131 70\\nMg\\n0.75 0.25 0.50\\nI...  2.0   \n",
       "3  5.2 5.9 8.9\\n103 90 114\\nLi\\n0.58 0.32 0.96\\nL...  3.0   \n",
       "4  4.0 4.0 5.0\\n90 90 120\\nTe\\n0.00 0.00 0.73\\nPd...  4.0   \n",
       "\n",
       "                                               image  \n",
       "0  [[788.7705980909478, 870.91214990967, 822.1257...  \n",
       "1  [[179.0272030566336, 298.58086754861387, 445.4...  \n",
       "2  [[0.5089580355505919, 0.6700741460760542, 0.90...  \n",
       "3  [[80.3384859297844, 73.66505892997732, 62.1020...  \n",
       "4  [[71.49908188830403, 134.99222115262734, 226.5...  "
      ]
     },
     "execution_count": 2,
     "metadata": {},
     "output_type": "execute_result"
    }
   ],
   "source": [
    "# Read the training dataset\n",
    "data_train = pd.read_csv('../data/alpaca_mbj_bandgap_train.csv')\n",
    "\n",
    "# Display basic information about the dataset\n",
    "print(\"Dataset Shape:\", data_train.shape)\n",
    "print(\"\\nDataset Info:\")\n",
    "data_train.info()\n",
    "print(\"\\nFirst few rows of the dataset:\")\n",
    "data_train.head()"
   ]
  },
  {
   "cell_type": "code",
   "execution_count": 3,
   "id": "9875d224",
   "metadata": {},
   "outputs": [
    {
     "name": "stdout",
     "output_type": "stream",
     "text": [
      "Missing Values in Each Column:\n",
      "\n",
      "Number of Duplicate Entries: 0\n"
     ]
    }
   ],
   "source": [
    "# Check for missing values\n",
    "print(\"Missing Values in Each Column:\")\n",
    "data_train.isnull().sum()\n",
    "\n",
    "# Check for duplicate entries\n",
    "print(\"\\nNumber of Duplicate Entries:\", data_train.duplicated().sum())"
   ]
  },
  {
   "cell_type": "markdown",
   "id": "86c46cf9",
   "metadata": {},
   "source": [
    "## Data Visualization\n",
    "\n",
    "Let's create some visualizations to better understand the distribution of values in our dataset."
   ]
  },
  {
   "cell_type": "code",
   "execution_count": 4,
   "id": "4ce9ffb7",
   "metadata": {},
   "outputs": [
    {
     "data": {
      "image/png": "[encoded data removed]",
      "text/plain": [
       "<Figure size 1000x600 with 1 Axes>"
      ]
     },
     "metadata": {},
     "output_type": "display_data"
    },
    {
     "name": "stdout",
     "output_type": "stream",
     "text": [
      "\n",
      "Number of successfully extracted bandgap values: 5000\n",
      "Mean bandgap value: 1.49 eV\n",
      "Median bandgap value: 0.00 eV\n",
      "Min bandgap value: 0.00 eV\n",
      "Max bandgap value: 32.56 eV\n"
     ]
    }
   ],
   "source": [
    "# Import the helper function\n",
    "import sys\n",
    "sys.path.append('../codes')  # Add the codes directory to Python path\n",
    "from helper import extract_formula_bandgap\n",
    "\n",
    "# Extract bandgap values from the text data\n",
    "bandgap_values = []\n",
    "formulas = []\n",
    "\n",
    "for text in data_train['input']:  # Assuming 'input' column contains the text data\n",
    "    formula, bandgap = extract_formula_bandgap(text)\n",
    "    if bandgap is not None:\n",
    "        bandgap_values.append(bandgap)\n",
    "        formulas.append(formula)\n",
    "\n",
    "# Convert to numpy array for plotting\n",
    "bandgap_values = np.array(bandgap_values)\n",
    "\n",
    "# Create histogram of extracted bandgap values\n",
    "plt.figure(figsize=(10, 6))\n",
    "plt.hist(bandgap_values, bins=50, edgecolor='black')\n",
    "plt.title('Distribution of Extracted MBJ Bandgap Values')\n",
    "plt.xlabel('MBJ Bandgap (eV)')\n",
    "plt.ylabel('Frequency')\n",
    "plt.show()\n",
    "\n",
    "# Print some statistics about the extracted values\n",
    "print(f\"\\nNumber of successfully extracted bandgap values: {len(bandgap_values)}\")\n",
    "print(f\"Mean bandgap value: {np.mean(bandgap_values):.2f} eV\")\n",
    "print(f\"Median bandgap value: {np.median(bandgap_values):.2f} eV\")\n",
    "print(f\"Min bandgap value: {np.min(bandgap_values):.2f} eV\")\n",
    "print(f\"Max bandgap value: {np.max(bandgap_values):.2f} eV\")"
   ]
  }
 ],
 "metadata": {
  "kernelspec": {
   "display_name": "Python 3",
   "language": "python",
   "name": "python3"
  },
  "language_info": {
   "codemirror_mode": {
    "name": "ipython",
    "version": 3
   },
   "file_extension": ".py",
   "mimetype": "text/x-python",
   "name": "python",
   "nbconvert_exporter": "python",
   "pygments_lexer": "ipython3",
   "version": "3.10.18"
  }
 },
 "nbformat": 4,
 "nbformat_minor": 5
}
