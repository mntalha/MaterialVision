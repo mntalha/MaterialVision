{
 "cells": [
  {
   "cell_type": "code",
   "execution_count": 1,
   "id": "33372f1c",
   "metadata": {},
   "outputs": [],
   "source": [
    "from jarvis.core.atoms import crop_square\n",
    "import matplotlib.pyplot as plt\n",
    "import os, glob\n",
    "from jarvis.analysis.stem.convolution_apprx import STEMConv\n",
    "from jarvis.db.figshare import data, get_jid_data\n",
    "import matplotlib.pyplot as plt\n",
    "from jarvis.core.atoms import Atoms, ase_to_atoms, get_supercell_dims\n",
    "from jarvis.core.lattice import get_2d_lattice\n",
    "from sklearn.model_selection import train_test_split\n",
    "from collections import defaultdict\n",
    "from jarvis.db.jsonutils import loadjson, dumpjson\n",
    "from jarvis.core.atoms import Atoms\n",
    "from pymatgen.core import Structure\n",
    "from pymatgen.core.lattice import Lattice\n",
    "import numpy as np\n",
    "\n",
    "import json\n"
   ]
  },
  {
   "cell_type": "code",
   "execution_count": 2,
   "id": "ca6446eb",
   "metadata": {},
   "outputs": [
    {
     "name": "stderr",
     "output_type": "stream",
     "text": [
      "/home/jipengsun/.conda/envs/clipp/lib/python3.10/site-packages/tqdm/auto.py:21: TqdmWarning: IProgress not found. Please update jupyter and ipywidgets. See https://ipywidgets.readthedocs.io/en/stable/user_install.html\n",
      "  from .autonotebook import tqdm as notebook_tqdm\n"
     ]
    }
   ],
   "source": [
    "#Read data\n",
    "\n",
    "from datasets import load_dataset\n",
    "\n",
    "data_train = load_dataset(\"json\", data_files=\"./alpaca_mbj_bandgap_train.json\", split=\"train\")\n",
    "data_test = load_dataset(\"json\", data_files=\"./alpaca_mbj_bandgap_test.json\", split=\"train\")"
   ]
  },
  {
   "cell_type": "code",
   "execution_count": 3,
   "id": "dc6cc1b2",
   "metadata": {},
   "outputs": [],
   "source": [
    "# Transform data to pandas DataFrame\n",
    "train_df = data_train.to_pandas()[:5000]\n",
    "test_df = data_test.to_pandas()[:1000]\n",
    "# Save to CSV\n",
    "#train_df.to_csv(\"alpaca_mbj_bandgap_train.csv\", index=False)\n",
    "#test_df.to_csv(\"alpaca_mbj_bandgap_test.csv\", index=False)"
   ]
  },
  {
   "cell_type": "code",
   "execution_count": 4,
   "id": "e9940e11",
   "metadata": {},
   "outputs": [],
   "source": [
    "def str_to_structure(gen_str):\n",
    "    lines = [x for x in gen_str.split(\"\\n\") if len(x) > 0]\n",
    "    lengths = [float(x) for x in lines[0].split(\" \")]\n",
    "    angles = [float(x) for x in lines[1].split(\" \")]\n",
    "    species = [x for x in lines[2::2]]\n",
    "    coords = [[float(y) for y in x.split(\" \")] for x in lines[3::2]]\n",
    "    \n",
    "    structure = Structure(\n",
    "        lattice=Lattice.from_parameters(\n",
    "            *(lengths + angles)),\n",
    "        species=species,\n",
    "        coords=coords, \n",
    "        coords_are_cartesian=False,\n",
    "    )\n",
    "    \n",
    "    return structure\n",
    "\n",
    "def structure_to_atoms(structure):\n",
    "    import jarvis\n",
    "    atoms = jarvis.core.atoms.pmg_to_atoms(structure)\n",
    "    return atoms\n",
    "\n",
    "def atom_to_image(atoms, size=224):\n",
    "    \"\"\"\n",
    "    Convert Atoms object to a square image of given size.\n",
    "    \"\"\"\n",
    "    dims = get_supercell_dims(atoms=atoms, enforce_c_size=50)\n",
    "    s = atoms.make_supercell_matrix(dims)\n",
    "    c = crop_square(s, csize=50)\n",
    "    p = STEMConv(output_size=[size, size]).simulate_surface(atoms=c)[0]\n",
    "    return p\n",
    "\n",
    "# From list to image shape img to image\n",
    "def list_to_image(img_list, size=224):\n",
    "    \"\"\"\n",
    "    Convert a list to a 2D image of given size.\n",
    "    \"\"\"\n",
    "    return json.loads(np.array(img_list).reshape(size, size))"
   ]
  },
  {
   "cell_type": "code",
   "execution_count": 5,
   "id": "34f9691b",
   "metadata": {},
   "outputs": [],
   "source": [
    "for i, row in train_df.iterrows():\n",
    "    gen_str = row['response']\n",
    "    \n",
    "    structure = str_to_structure(gen_str)\n",
    "    atoms = structure_to_atoms(structure)\n",
    "\n",
    "    image = atom_to_image(atoms, size=224)\n",
    "\n",
    "    #save images on disk\n",
    "    image_path = f\"train/train_image_{i}.png\"\n",
    "    plt.imsave(image_path, image, cmap='gray')\n",
    "    \n",
    "    train_df.loc[i, 'id'] =  i  # Add an ID column\n",
    "    train_df.loc[i, 'image'] = json.dumps(image.tolist())  # Store image as list for DataFrame\n",
    "\n",
    "train_df.to_csv(\"alpaca_mbj_bandgap_train.csv\", index=False)\n",
    "\n",
    "for i, row in test_df.iterrows():\n",
    "    gen_str = row['response']\n",
    "    \n",
    "    structure = str_to_structure(gen_str)\n",
    "    atoms = structure_to_atoms(structure)\n",
    "    \n",
    "    image = atom_to_image(atoms, size=224)\n",
    "\n",
    "    #save images on disk\n",
    "    image_path = f\"test/test_image_{i}.png\"\n",
    "    plt.imsave(image_path, image, cmap='gray')\n",
    "\n",
    "    test_df.loc[i, 'id'] =  i  # Add an ID column \n",
    "    test_df.loc[i, 'image'] = json.dumps(image.tolist())  # Store image as list for DataFrame\n",
    "\n",
    "test_df.to_csv(\"alpaca_mbj_bandgap_test.csv\", index=False)"
   ]
  },
  {
   "cell_type": "code",
   "execution_count": null,
   "id": "6f97d5bc",
   "metadata": {},
   "outputs": [],
   "source": []
  }
 ],
 "metadata": {
  "kernelspec": {
   "display_name": "clipp",
   "language": "python",
   "name": "python3"
  },
  "language_info": {
   "codemirror_mode": {
    "name": "ipython",
    "version": 3
   },
   "file_extension": ".py",
   "mimetype": "text/x-python",
   "name": "python",
   "nbconvert_exporter": "python",
   "pygments_lexer": "ipython3",
   "version": "3.10.16"
  }
 },
 "nbformat": 4,
 "nbformat_minor": 5
}
